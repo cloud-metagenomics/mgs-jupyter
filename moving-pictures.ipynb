{
 "cells": [
  {
   "cell_type": "markdown",
   "id": "2d9f3e48-c2bd-4277-9e00-6538b50351f2",
   "metadata": {},
   "source": [
    "# QIIME2 Moving Pictures tutorial"
   ]
  },
  {
   "cell_type": "code",
   "execution_count": 1,
   "id": "f48269ea-bb8b-4fc5-ac25-b6b730ac987d",
   "metadata": {},
   "outputs": [],
   "source": [
    "# From https://docs.qiime2.org/2021.4/tutorials/moving-pictures/"
   ]
  },
  {
   "cell_type": "code",
   "execution_count": 3,
   "id": "050bb2f7-b8fa-4151-94a9-8e418af34bdf",
   "metadata": {},
   "outputs": [],
   "source": [
    "# create a new directory for this tutorial\n",
    "!mkdir ~/qiime2-moving-pictures-tutorial"
   ]
  },
  {
   "cell_type": "code",
   "execution_count": 4,
   "id": "016a44a8-15bc-46a9-a556-ecf7a78bb2c6",
   "metadata": {},
   "outputs": [
    {
     "name": "stdout",
     "output_type": "stream",
     "text": [
      "/home/mgs-user/qiime2-moving-pictures-tutorial\n"
     ]
    }
   ],
   "source": [
    "# Change working directory to that new directory\n",
    "%cd ~/qiime2-moving-pictures-tutorial"
   ]
  },
  {
   "cell_type": "code",
   "execution_count": 6,
   "id": "30eafb02-8438-4987-a503-f145b38b5dbf",
   "metadata": {},
   "outputs": [
    {
     "name": "stdout",
     "output_type": "stream",
     "text": [
      "--2021-06-07 18:06:40--  https://data.qiime2.org/2021.4/tutorials/moving-pictures/sample_metadata.tsv\n",
      "Resolving data.qiime2.org (data.qiime2.org)... 54.200.1.12\n",
      "Connecting to data.qiime2.org (data.qiime2.org)|54.200.1.12|:443... connected.\n",
      "HTTP request sent, awaiting response... 302 FOUND\n",
      "Location: https://docs.google.com/spreadsheets/d/1e0mnmMtb1FUDJjrjh-sOIUohQkWGEDyGfuTST2-3pzo/export?gid=0&format=tsv [following]\n",
      "--2021-06-07 18:06:40--  https://docs.google.com/spreadsheets/d/1e0mnmMtb1FUDJjrjh-sOIUohQkWGEDyGfuTST2-3pzo/export?gid=0&format=tsv\n",
      "Resolving docs.google.com (docs.google.com)... 142.250.200.46, 2a00:1450:4009:823::200e\n",
      "Connecting to docs.google.com (docs.google.com)|142.250.200.46|:443... connected.\n",
      "HTTP request sent, awaiting response... 307 Temporary Redirect\n",
      "Location: https://doc-0s-bg-sheets.googleusercontent.com/export/l5l039s6ni5uumqbsj9o11lmdc/frito6tm0i8unrkef3c285u6r8/1623089200000/114006126186955586747/*/1e0mnmMtb1FUDJjrjh-sOIUohQkWGEDyGfuTST2-3pzo?gid=0&format=tsv [following]\n",
      "Warning: wildcards not supported in HTTP.\n",
      "--2021-06-07 18:06:41--  https://doc-0s-bg-sheets.googleusercontent.com/export/l5l039s6ni5uumqbsj9o11lmdc/frito6tm0i8unrkef3c285u6r8/1623089200000/114006126186955586747/*/1e0mnmMtb1FUDJjrjh-sOIUohQkWGEDyGfuTST2-3pzo?gid=0&format=tsv\n",
      "Resolving doc-0s-bg-sheets.googleusercontent.com (doc-0s-bg-sheets.googleusercontent.com)... 142.250.187.193, 2a00:1450:4009:80a::2001\n",
      "Connecting to doc-0s-bg-sheets.googleusercontent.com (doc-0s-bg-sheets.googleusercontent.com)|142.250.187.193|:443... connected.\n",
      "HTTP request sent, awaiting response... 200 OK\n",
      "Length: unspecified [text/tab-separated-values]\n",
      "Saving to: ‘sample-metadata.tsv’\n",
      "\n",
      "sample-metadata.tsv     [ <=>                ]   2.04K  --.-KB/s    in 0s      \n",
      "\n",
      "2021-06-07 18:06:41 (29.2 MB/s) - ‘sample-metadata.tsv’ saved [2094]\n",
      "\n"
     ]
    }
   ],
   "source": [
    "# obtain the sample metadata\n",
    "!wget \\\n",
    "  -O \"sample-metadata.tsv\" \\\n",
    "  \"https://data.qiime2.org/2021.4/tutorials/moving-pictures/sample_metadata.tsv\""
   ]
  },
  {
   "cell_type": "code",
   "execution_count": 7,
   "id": "2a5f2183-e26a-48cd-b0d8-d78a9c7b567c",
   "metadata": {},
   "outputs": [],
   "source": [
    "# Download the sequence reads"
   ]
  },
  {
   "cell_type": "code",
   "execution_count": 8,
   "id": "ec8c3175-d742-4345-a05d-8b22f438fb3d",
   "metadata": {},
   "outputs": [],
   "source": [
    "!mkdir emp-single-end-sequences"
   ]
  },
  {
   "cell_type": "code",
   "execution_count": 9,
   "id": "c28eb21b-2fdd-4825-bbb5-92cfa32076fb",
   "metadata": {},
   "outputs": [
    {
     "name": "stdout",
     "output_type": "stream",
     "text": [
      "--2021-06-07 18:07:32--  https://data.qiime2.org/2021.4/tutorials/moving-pictures/emp-single-end-sequences/barcodes.fastq.gz\n",
      "Resolving data.qiime2.org (data.qiime2.org)... 54.200.1.12\n",
      "Connecting to data.qiime2.org (data.qiime2.org)|54.200.1.12|:443... connected.\n",
      "HTTP request sent, awaiting response... 302 FOUND\n",
      "Location: https://s3-us-west-2.amazonaws.com/qiime2-data/2021.4/tutorials/moving-pictures/emp-single-end-sequences/barcodes.fastq.gz [following]\n",
      "--2021-06-07 18:07:33--  https://s3-us-west-2.amazonaws.com/qiime2-data/2021.4/tutorials/moving-pictures/emp-single-end-sequences/barcodes.fastq.gz\n",
      "Resolving s3-us-west-2.amazonaws.com (s3-us-west-2.amazonaws.com)... 52.218.218.8\n",
      "Connecting to s3-us-west-2.amazonaws.com (s3-us-west-2.amazonaws.com)|52.218.218.8|:443... connected.\n",
      "HTTP request sent, awaiting response... 200 OK\n",
      "Length: 3783785 (3.6M) [application/x-gzip]\n",
      "Saving to: ‘emp-single-end-sequences/barcodes.fastq.gz’\n",
      "\n",
      "emp-single-end-sequ 100%[===================>]   3.61M  2.99MB/s    in 1.2s    \n",
      "\n",
      "2021-06-07 18:07:35 (2.99 MB/s) - ‘emp-single-end-sequences/barcodes.fastq.gz’ saved [3783785/3783785]\n",
      "\n"
     ]
    }
   ],
   "source": [
    "!wget \\\n",
    "  -O \"emp-single-end-sequences/barcodes.fastq.gz\" \\\n",
    "  \"https://data.qiime2.org/2021.4/tutorials/moving-pictures/emp-single-end-sequences/barcodes.fastq.gz\""
   ]
  },
  {
   "cell_type": "code",
   "execution_count": 11,
   "id": "7307d576-92cc-491e-aaba-579d2d7518c2",
   "metadata": {},
   "outputs": [
    {
     "name": "stdout",
     "output_type": "stream",
     "text": [
      "--2021-06-07 18:07:59--  https://data.qiime2.org/2021.4/tutorials/moving-pictures/emp-single-end-sequences/sequences.fastq.gz\n",
      "Resolving data.qiime2.org (data.qiime2.org)... 54.200.1.12\n",
      "Connecting to data.qiime2.org (data.qiime2.org)|54.200.1.12|:443... connected.\n",
      "HTTP request sent, awaiting response... 302 FOUND\n",
      "Location: https://s3-us-west-2.amazonaws.com/qiime2-data/2021.4/tutorials/moving-pictures/emp-single-end-sequences/sequences.fastq.gz [following]\n",
      "--2021-06-07 18:08:00--  https://s3-us-west-2.amazonaws.com/qiime2-data/2021.4/tutorials/moving-pictures/emp-single-end-sequences/sequences.fastq.gz\n",
      "Resolving s3-us-west-2.amazonaws.com (s3-us-west-2.amazonaws.com)... 52.92.129.40\n",
      "Connecting to s3-us-west-2.amazonaws.com (s3-us-west-2.amazonaws.com)|52.92.129.40|:443... connected.\n",
      "HTTP request sent, awaiting response... 200 OK\n",
      "Length: 25303756 (24M) [binary/octet-stream]\n",
      "Saving to: ‘emp-single-end-sequences/sequences.fastq.gz’\n",
      "\n",
      "emp-single-end-sequ 100%[===================>]  24.13M  10.7MB/s    in 2.3s    \n",
      "\n",
      "2021-06-07 18:08:03 (10.7 MB/s) - ‘emp-single-end-sequences/sequences.fastq.gz’ saved [25303756/25303756]\n",
      "\n"
     ]
    }
   ],
   "source": [
    "!wget \\\n",
    "  -O \"emp-single-end-sequences/sequences.fastq.gz\" \\\n",
    "  \"https://data.qiime2.org/2021.4/tutorials/moving-pictures/emp-single-end-sequences/sequences.fastq.gz\""
   ]
  },
  {
   "cell_type": "code",
   "execution_count": 12,
   "id": "e02165f5-6d17-46fe-a301-f7a4b9abc341",
   "metadata": {},
   "outputs": [
    {
     "name": "stdout",
     "output_type": "stream",
     "text": [
      "\u001b[32mImported emp-single-end-sequences as EMPSingleEndDirFmt to emp-single-end-sequences.qza\u001b[0m\n"
     ]
    }
   ],
   "source": [
    "!qiime tools import \\\n",
    "  --type EMPSingleEndSequences \\\n",
    "  --input-path emp-single-end-sequences \\\n",
    "  --output-path emp-single-end-sequences.qza"
   ]
  },
  {
   "cell_type": "code",
   "execution_count": 15,
   "id": "c6c69d93-ac22-47a0-a902-bfd69f166c4b",
   "metadata": {},
   "outputs": [
    {
     "data": {
      "text/plain": [
       "<artifact: EMPSingleEndSequences uuid: 2ba470e2-d437-49ab-b7ca-80275bb1f22e>"
      ]
     },
     "execution_count": 15,
     "metadata": {},
     "output_type": "execute_result"
    }
   ],
   "source": [
    "from qiime2 import Artifact\n",
    "Artifact.load('emp-single-end-sequences.qza')"
   ]
  },
  {
   "cell_type": "code",
   "execution_count": 16,
   "id": "68408d2f-49a4-4718-8eeb-e5e0f72b7350",
   "metadata": {},
   "outputs": [
    {
     "name": "stdout",
     "output_type": "stream",
     "text": [
      "\u001b[32mUUID\u001b[0m:        2ba470e2-d437-49ab-b7ca-80275bb1f22e\n",
      "\u001b[32mType\u001b[0m:        EMPSingleEndSequences\n",
      "\u001b[32mData format\u001b[0m: EMPSingleEndDirFmt\n"
     ]
    }
   ],
   "source": [
    "!qiime tools peek emp-single-end-sequences.qza"
   ]
  },
  {
   "cell_type": "code",
   "execution_count": 17,
   "id": "b321e2e2-f86c-48e4-9d37-14d9dd68aff4",
   "metadata": {},
   "outputs": [
    {
     "name": "stdout",
     "output_type": "stream",
     "text": [
      "\u001b[32mSaved SampleData[SequencesWithQuality] to: demux.qza\u001b[0m\n",
      "\u001b[32mSaved ErrorCorrectionDetails to: demux-details.qza\u001b[0m\n"
     ]
    }
   ],
   "source": [
    "# Demultiplexing sequences\n",
    "!qiime demux emp-single \\\n",
    "  --i-seqs emp-single-end-sequences.qza \\\n",
    "  --m-barcodes-file sample-metadata.tsv \\\n",
    "  --m-barcodes-column barcode-sequence \\\n",
    "  --o-per-sample-sequences demux.qza \\\n",
    "  --o-error-correction-details demux-details.qza"
   ]
  },
  {
   "cell_type": "code",
   "execution_count": 19,
   "id": "ed3a2f0d-9a18-4275-85d9-1f0c70a5d0ce",
   "metadata": {},
   "outputs": [
    {
     "name": "stdout",
     "output_type": "stream",
     "text": [
      "\u001b[32mSaved Visualization to: demux.qzv\u001b[0m\n"
     ]
    }
   ],
   "source": [
    "# create summary of results\n",
    "!qiime demux summarize \\\n",
    "  --i-data demux.qza \\\n",
    "  --o-visualization demux.qzv"
   ]
  },
  {
   "cell_type": "code",
   "execution_count": 1,
   "id": "abc4871c-23d5-4004-8d00-242bead9a2ad",
   "metadata": {},
   "outputs": [
    {
     "data": {
      "text/html": [
       "<div><img onload=\"(function(div, url){\n",
       "if (typeof require !== 'undefined') {\n",
       "    var baseURL = require.toUrl('').split('/').slice(0, -2).join('/');\n",
       "} else {\n",
       "    var baseURL = JSON.parse(\n",
       "        document.getElementById('jupyter-config-data').innerHTML\n",
       "    ).baseUrl.slice(0, -1);\n",
       "}\n",
       "url = baseURL + url;\n",
       "fetch(url).then(function(res) {\n",
       "    if (res.status === 404) {\n",
       "        div.innerHTML = 'Install QIIME 2 Jupyter extension with:<br />' +\n",
       "                        '<code>jupyter serverextension enable --py qiime2' +\n",
       "                        ' --sys-prefix</code><br />then restart your server.' +\n",
       "                        '<br /><br />(Interactive output not available on ' +\n",
       "                        'static notebook viewer services like nbviewer.)';\n",
       "    } else if (res.status === 409) {\n",
       "        div.innerHTML = 'Visualization no longer in scope. Re-run this cell' +\n",
       "                        ' to see the visualization.';\n",
       "    } else if (res.ok) {\n",
       "        url = res.url;\n",
       "        div.innerHTML = '<iframe src=\\'' + url + '\\' style=\\'' +\n",
       "                        'width: 100%; height: 700px; border: 0;\\'>' +\n",
       "                        '</iframe><hr />Open in a: <a href=\\'' + url + '\\'' +\n",
       "                        ' target=\\'_blank\\'>new window</a>'\n",
       "    } else {\n",
       "        div.innerHTML = 'Something has gone wrong. Check notebook server for' +\n",
       "                        ' errors.';\n",
       "    }\n",
       "});\n",
       "})(this.parentElement, '/qiime2/redirect?location=/tmp/qiime2-archive-p0qe1dv_')\" src=\"data:image/gif;base64,R0lGODlhAQABAIAAAP///wAAACH5BAEAAAAALAAAAAABAAEAAAICRAEAOw==\" /></div>"
      ],
      "text/plain": [
       "<visualization: Visualization uuid: 3c1c725f-1c69-47f8-8fd9-a85b396b93ed>"
      ]
     },
     "execution_count": 1,
     "metadata": {},
     "output_type": "execute_result"
    }
   ],
   "source": [
    "from qiime2 import Visualization\n",
    "Visualization.load ('demux.qzv')"
   ]
  },
  {
   "cell_type": "code",
   "execution_count": 21,
   "id": "a030b80e-8c3b-48e3-ac81-2173f5079107",
   "metadata": {},
   "outputs": [
    {
     "name": "stdout",
     "output_type": "stream",
     "text": [
      "\u001b[32mSaved FeatureTable[Frequency] to: table-dada2.qza\u001b[0m\n",
      "\u001b[32mSaved FeatureData[Sequence] to: rep-seqs-dada2.qza\u001b[0m\n",
      "\u001b[32mSaved SampleData[DADA2Stats] to: stats-dada2.qza\u001b[0m\n"
     ]
    }
   ],
   "source": [
    "!qiime dada2 denoise-single \\\n",
    "  --i-demultiplexed-seqs demux.qza \\\n",
    "  --p-trim-left 0 \\\n",
    "  --p-trunc-len 120 \\\n",
    "  --o-representative-sequences rep-seqs-dada2.qza \\\n",
    "  --o-table table-dada2.qza \\\n",
    "  --o-denoising-stats stats-dada2.qza"
   ]
  },
  {
   "cell_type": "code",
   "execution_count": 22,
   "id": "daf27afd-4a52-4af2-a338-8a4444811844",
   "metadata": {},
   "outputs": [
    {
     "name": "stdout",
     "output_type": "stream",
     "text": [
      "\u001b[32mSaved Visualization to: stats-dada2.qzv\u001b[0m\n"
     ]
    }
   ],
   "source": [
    "!qiime metadata tabulate \\\n",
    "  --m-input-file stats-dada2.qza \\\n",
    "  --o-visualization stats-dada2.qzv"
   ]
  },
  {
   "cell_type": "code",
   "execution_count": 23,
   "id": "b4ca8d99-90b6-4f41-8989-4f26ef3251e2",
   "metadata": {},
   "outputs": [
    {
     "data": {
      "text/html": [
       "<div><img onload=\"(function(div, url){\n",
       "if (typeof require !== 'undefined') {\n",
       "    var baseURL = require.toUrl('').split('/').slice(0, -2).join('/');\n",
       "} else {\n",
       "    var baseURL = JSON.parse(\n",
       "        document.getElementById('jupyter-config-data').innerHTML\n",
       "    ).baseUrl.slice(0, -1);\n",
       "}\n",
       "url = baseURL + url;\n",
       "fetch(url).then(function(res) {\n",
       "    if (res.status === 404) {\n",
       "        div.innerHTML = 'Install QIIME 2 Jupyter extension with:<br />' +\n",
       "                        '<code>jupyter serverextension enable --py qiime2' +\n",
       "                        ' --sys-prefix</code><br />then restart your server.' +\n",
       "                        '<br /><br />(Interactive output not available on ' +\n",
       "                        'static notebook viewer services like nbviewer.)';\n",
       "    } else if (res.status === 409) {\n",
       "        div.innerHTML = 'Visualization no longer in scope. Re-run this cell' +\n",
       "                        ' to see the visualization.';\n",
       "    } else if (res.ok) {\n",
       "        url = res.url;\n",
       "        div.innerHTML = '<iframe src=\\'' + url + '\\' style=\\'' +\n",
       "                        'width: 100%; height: 700px; border: 0;\\'>' +\n",
       "                        '</iframe><hr />Open in a: <a href=\\'' + url + '\\'' +\n",
       "                        ' target=\\'_blank\\'>new window</a>'\n",
       "    } else {\n",
       "        div.innerHTML = 'Something has gone wrong. Check notebook server for' +\n",
       "                        ' errors.';\n",
       "    }\n",
       "});\n",
       "})(this.parentElement, '/qiime2/redirect?location=/tmp/qiime2-archive-6j4g532j')\" src=\"data:image/gif;base64,R0lGODlhAQABAIAAAP///wAAACH5BAEAAAAALAAAAAABAAEAAAICRAEAOw==\" /></div>"
      ],
      "text/plain": [
       "<visualization: Visualization uuid: ed3c3244-06ca-4943-b67a-b97b6ef437a0>"
      ]
     },
     "execution_count": 23,
     "metadata": {},
     "output_type": "execute_result"
    }
   ],
   "source": [
    "Visualization.load ('stats-dada2.qzv')"
   ]
  },
  {
   "cell_type": "code",
   "execution_count": 24,
   "id": "72fc73c5-1196-4fb0-9c8f-72969243ea0e",
   "metadata": {},
   "outputs": [],
   "source": [
    "!mv rep-seqs-dada2.qza rep-seqs.qza\n",
    "!mv table-dada2.qza table.qza"
   ]
  },
  {
   "cell_type": "code",
   "execution_count": 25,
   "id": "b30a9a38-045d-4b38-90f5-bcd445464b63",
   "metadata": {},
   "outputs": [
    {
     "name": "stdout",
     "output_type": "stream",
     "text": [
      "\u001b[32mSaved FeatureData[AlignedSequence] to: aligned-rep-seqs.qza\u001b[0m\n",
      "\u001b[32mSaved FeatureData[AlignedSequence] to: masked-aligned-rep-seqs.qza\u001b[0m\n",
      "\u001b[32mSaved Phylogeny[Unrooted] to: unrooted-tree.qza\u001b[0m\n",
      "\u001b[32mSaved Phylogeny[Rooted] to: rooted-tree.qza\u001b[0m\n"
     ]
    }
   ],
   "source": [
    "# generate tree\n",
    "!qiime phylogeny align-to-tree-mafft-fasttree \\\n",
    "  --i-sequences rep-seqs.qza \\\n",
    "  --o-alignment aligned-rep-seqs.qza \\\n",
    "  --o-masked-alignment masked-aligned-rep-seqs.qza \\\n",
    "  --o-tree unrooted-tree.qza \\\n",
    "  --o-rooted-tree rooted-tree.qza"
   ]
  },
  {
   "cell_type": "code",
   "execution_count": 27,
   "id": "10b5e6b0-d787-429d-bb1d-29fdda8ef42c",
   "metadata": {},
   "outputs": [
    {
     "name": "stdout",
     "output_type": "stream",
     "text": [
      "\u001b[32mSaved FeatureTable[Frequency] to: core-metrics-results/rarefied_table.qza\u001b[0m\n",
      "\u001b[32mSaved SampleData[AlphaDiversity] to: core-metrics-results/faith_pd_vector.qza\u001b[0m\n",
      "\u001b[32mSaved SampleData[AlphaDiversity] to: core-metrics-results/observed_features_vector.qza\u001b[0m\n",
      "\u001b[32mSaved SampleData[AlphaDiversity] to: core-metrics-results/shannon_vector.qza\u001b[0m\n",
      "\u001b[32mSaved SampleData[AlphaDiversity] to: core-metrics-results/evenness_vector.qza\u001b[0m\n",
      "\u001b[32mSaved DistanceMatrix to: core-metrics-results/unweighted_unifrac_distance_matrix.qza\u001b[0m\n",
      "\u001b[32mSaved DistanceMatrix to: core-metrics-results/weighted_unifrac_distance_matrix.qza\u001b[0m\n",
      "\u001b[32mSaved DistanceMatrix to: core-metrics-results/jaccard_distance_matrix.qza\u001b[0m\n",
      "\u001b[32mSaved DistanceMatrix to: core-metrics-results/bray_curtis_distance_matrix.qza\u001b[0m\n",
      "\u001b[32mSaved PCoAResults to: core-metrics-results/unweighted_unifrac_pcoa_results.qza\u001b[0m\n",
      "\u001b[32mSaved PCoAResults to: core-metrics-results/weighted_unifrac_pcoa_results.qza\u001b[0m\n",
      "\u001b[32mSaved PCoAResults to: core-metrics-results/jaccard_pcoa_results.qza\u001b[0m\n",
      "\u001b[32mSaved PCoAResults to: core-metrics-results/bray_curtis_pcoa_results.qza\u001b[0m\n",
      "\u001b[32mSaved Visualization to: core-metrics-results/unweighted_unifrac_emperor.qzv\u001b[0m\n",
      "\u001b[32mSaved Visualization to: core-metrics-results/weighted_unifrac_emperor.qzv\u001b[0m\n",
      "\u001b[32mSaved Visualization to: core-metrics-results/jaccard_emperor.qzv\u001b[0m\n",
      "\u001b[32mSaved Visualization to: core-metrics-results/bray_curtis_emperor.qzv\u001b[0m\n"
     ]
    }
   ],
   "source": [
    "!qiime diversity core-metrics-phylogenetic \\\n",
    "  --i-phylogeny rooted-tree.qza \\\n",
    "  --i-table table.qza \\\n",
    "  --p-sampling-depth 1103 \\\n",
    "  --m-metadata-file sample-metadata.tsv \\\n",
    "  --output-dir core-metrics-results"
   ]
  },
  {
   "cell_type": "code",
   "execution_count": 26,
   "id": "d78d12c1-f80f-4833-8b03-e094eab28102",
   "metadata": {},
   "outputs": [],
   "source": [
    "# Alpha and beta diversity analysis¶"
   ]
  },
  {
   "cell_type": "code",
   "execution_count": 28,
   "id": "5d5a396b-fc2d-46ac-85d0-2c2b44d32be2",
   "metadata": {},
   "outputs": [
    {
     "name": "stdout",
     "output_type": "stream",
     "text": [
      "\u001b[32mSaved Visualization to: core-metrics-results/faith-pd-group-significance.qzv\u001b[0m\n",
      "\u001b[32mSaved Visualization to: core-metrics-results/evenness-group-significance.qzv\u001b[0m\n"
     ]
    }
   ],
   "source": [
    "!qiime diversity alpha-group-significance \\\n",
    "  --i-alpha-diversity core-metrics-results/faith_pd_vector.qza \\\n",
    "  --m-metadata-file sample-metadata.tsv \\\n",
    "  --o-visualization core-metrics-results/faith-pd-group-significance.qzv\n",
    "\n",
    "!qiime diversity alpha-group-significance \\\n",
    "  --i-alpha-diversity core-metrics-results/evenness_vector.qza \\\n",
    "  --m-metadata-file sample-metadata.tsv \\\n",
    "  --o-visualization core-metrics-results/evenness-group-significance.qzv"
   ]
  },
  {
   "cell_type": "code",
   "execution_count": 29,
   "id": "cfa1382f-7707-4bee-8ada-775367655128",
   "metadata": {},
   "outputs": [
    {
     "name": "stdout",
     "output_type": "stream",
     "text": [
      "\u001b[32mSaved Visualization to: core-metrics-results/unweighted-unifrac-body-site-significance.qzv\u001b[0m\n",
      "\u001b[32mSaved Visualization to: core-metrics-results/unweighted-unifrac-subject-group-significance.qzv\u001b[0m\n"
     ]
    }
   ],
   "source": [
    "!qiime diversity beta-group-significance \\\n",
    "  --i-distance-matrix core-metrics-results/unweighted_unifrac_distance_matrix.qza \\\n",
    "  --m-metadata-file sample-metadata.tsv \\\n",
    "  --m-metadata-column body-site \\\n",
    "  --o-visualization core-metrics-results/unweighted-unifrac-body-site-significance.qzv \\\n",
    "  --p-pairwise\n",
    "\n",
    "!qiime diversity beta-group-significance \\\n",
    "  --i-distance-matrix core-metrics-results/unweighted_unifrac_distance_matrix.qza \\\n",
    "  --m-metadata-file sample-metadata.tsv \\\n",
    "  --m-metadata-column subject \\\n",
    "  --o-visualization core-metrics-results/unweighted-unifrac-subject-group-significance.qzv \\\n",
    "  --p-pairwise"
   ]
  },
  {
   "cell_type": "code",
   "execution_count": 30,
   "id": "198dd4b5-d190-407d-926f-48da01d56032",
   "metadata": {},
   "outputs": [
    {
     "data": {
      "text/html": [
       "<div><img onload=\"(function(div, url){\n",
       "if (typeof require !== 'undefined') {\n",
       "    var baseURL = require.toUrl('').split('/').slice(0, -2).join('/');\n",
       "} else {\n",
       "    var baseURL = JSON.parse(\n",
       "        document.getElementById('jupyter-config-data').innerHTML\n",
       "    ).baseUrl.slice(0, -1);\n",
       "}\n",
       "url = baseURL + url;\n",
       "fetch(url).then(function(res) {\n",
       "    if (res.status === 404) {\n",
       "        div.innerHTML = 'Install QIIME 2 Jupyter extension with:<br />' +\n",
       "                        '<code>jupyter serverextension enable --py qiime2' +\n",
       "                        ' --sys-prefix</code><br />then restart your server.' +\n",
       "                        '<br /><br />(Interactive output not available on ' +\n",
       "                        'static notebook viewer services like nbviewer.)';\n",
       "    } else if (res.status === 409) {\n",
       "        div.innerHTML = 'Visualization no longer in scope. Re-run this cell' +\n",
       "                        ' to see the visualization.';\n",
       "    } else if (res.ok) {\n",
       "        url = res.url;\n",
       "        div.innerHTML = '<iframe src=\\'' + url + '\\' style=\\'' +\n",
       "                        'width: 100%; height: 700px; border: 0;\\'>' +\n",
       "                        '</iframe><hr />Open in a: <a href=\\'' + url + '\\'' +\n",
       "                        ' target=\\'_blank\\'>new window</a>'\n",
       "    } else {\n",
       "        div.innerHTML = 'Something has gone wrong. Check notebook server for' +\n",
       "                        ' errors.';\n",
       "    }\n",
       "});\n",
       "})(this.parentElement, '/qiime2/redirect?location=/tmp/qiime2-archive-rkn533hz')\" src=\"data:image/gif;base64,R0lGODlhAQABAIAAAP///wAAACH5BAEAAAAALAAAAAABAAEAAAICRAEAOw==\" /></div>"
      ],
      "text/plain": [
       "<visualization: Visualization uuid: f6b7abcc-c6b9-4752-8ec8-7f44eaaaf6e4>"
      ]
     },
     "execution_count": 30,
     "metadata": {},
     "output_type": "execute_result"
    }
   ],
   "source": [
    "Visualization.load('core-metrics-results/evenness-group-significance.qzv')"
   ]
  },
  {
   "cell_type": "code",
   "execution_count": null,
   "id": "047e6d10-7742-4f26-87d3-a4a09eaa2ce8",
   "metadata": {},
   "outputs": [],
   "source": []
  }
 ],
 "metadata": {
  "kernelspec": {
   "display_name": "qiime2",
   "language": "python",
   "name": "qiime2"
  },
  "language_info": {
   "codemirror_mode": {
    "name": "ipython",
    "version": 3
   },
   "file_extension": ".py",
   "mimetype": "text/x-python",
   "name": "python",
   "nbconvert_exporter": "python",
   "pygments_lexer": "ipython3",
   "version": "3.8.8"
  }
 },
 "nbformat": 4,
 "nbformat_minor": 5
}
